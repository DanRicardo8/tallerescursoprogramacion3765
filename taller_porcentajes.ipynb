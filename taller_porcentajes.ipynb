{
  "nbformat": 4,
  "nbformat_minor": 0,
  "metadata": {
    "colab": {
      "provenance": []
    },
    "kernelspec": {
      "name": "python3",
      "display_name": "Python 3"
    },
    "language_info": {
      "name": "python"
    }
  },
  "cells": [
    {
      "cell_type": "markdown",
      "source": [
        "Se recibe una venta por concepto de un producto se requiere aplicar el IVA (19%) y conocer el total a pagar con el IVA incluido."
      ],
      "metadata": {
        "id": "z0TN7f5XSZBy"
      }
    },
    {
      "cell_type": "code",
      "execution_count": 1,
      "metadata": {
        "colab": {
          "base_uri": "https://localhost:8080/"
        },
        "id": "RfdQ3rXgSTmW",
        "outputId": "e367f3c2-5d29-4c43-f14f-b561a7983500"
      },
      "outputs": [
        {
          "output_type": "stream",
          "name": "stdout",
          "text": [
            "¿Cuánto fue el total de la compra?: 540000\n",
            "el IVA es = $102,600 y el total a pagar es = $642,600.00 \n",
            "El IVA es = $102,600.00 y el total a pagar es 642,600.00\n"
          ]
        }
      ],
      "source": [
        "venta = float(input(\"¿Cuánto fue el total de la compra?: \"))\n",
        "iva = venta * 0.19\n",
        "total = venta + iva\n",
        "print(\"el IVA es = ${:,.0f} y el total a pagar es = ${:,.2f} \".format(iva, total))\n",
        "print(f\"El IVA es = ${iva:,.2f} y el total a pagar es {total:,.2f}\")"
      ]
    },
    {
      "cell_type": "markdown",
      "source": [
        "Se necesita un sistema que reciba tres calificaciones parciales de un alumno y en base a estas, darle su promedio:"
      ],
      "metadata": {
        "id": "-YNqTSroSlVZ"
      }
    },
    {
      "cell_type": "code",
      "source": [
        "cal1 = float(input(\"digite la calificación 1: \"))\n",
        "cal2 = float(input(\"digite la calificación 2: \"))\n",
        "cal3 = float(input(\"digite la calificación 3: \"))\n",
        "\n",
        "prom = round((cal1 + cal2 + cal3)/3, 2)\n",
        "\n",
        "print(f\"El promedio es = {prom}\")"
      ],
      "metadata": {
        "colab": {
          "base_uri": "https://localhost:8080/"
        },
        "id": "MF_VlyqDSn9h",
        "outputId": "7ea416a6-7d52-43e6-a334-de420ab14590"
      },
      "execution_count": 2,
      "outputs": [
        {
          "output_type": "stream",
          "name": "stdout",
          "text": [
            "digite la calificación 1: 3.9\n",
            "digite la calificación 2: 4.3\n",
            "digite la calificación 3: 2.8\n",
            "El promedio es = 3.67\n"
          ]
        }
      ]
    },
    {
      "cell_type": "markdown",
      "source": [
        "Un vendedor recibe un sueldo base, más un 10% extra por comisión de sus ventas, el vendedor desea saber cuánto dinero obtendrá por concepto de comisiones por las tres ventas que realiza en el mes y el total que recibirá en el mes tomando en cuenta su sueldo base y comisiones."
      ],
      "metadata": {
        "id": "e2Bmpn3cS16I"
      }
    },
    {
      "cell_type": "code",
      "source": [
        "BaseSal = float(input(\"Digite su sueldo Base: \"))\n",
        "Venta1 = float(input(\"digite el valor de la venta #1: \"))\n",
        "Comm1 = Venta1 * 0.1\n",
        "Venta2 = float(input(\"digite el valor de la venta #2: \"))\n",
        "Comm2 = Venta2 * 0.1\n",
        "Venta3 = float(input(\"digite el valor de la venta #3: \"))\n",
        "Comm3 = Venta3 * 0.1\n",
        "CommT = Comm1 + Comm2 + Comm3\n",
        "TotalWon = CommT + BaseSal\n",
        "print(f\"\\nApreciado Colaborador,\\nEl reporte de su nomina ha sido efectuado.\\nSu salario base es de ${BaseSal:,.2f} \\nSe reportaron un total de 3 VENTAS, por valores de: \\n${Venta1:,.2f} \\n${Venta2:,.2f} \\n${Venta3:,.2f}\\nSus comisiones han sido de ${CommT:,.2f}. \")\n",
        "print(f\"Su nómina este mes ha sido de ${TotalWon:,.2f} Gracias por hacer parte de nuestra compañía.\" )"
      ],
      "metadata": {
        "colab": {
          "base_uri": "https://localhost:8080/"
        },
        "id": "O7Y5guu9SzCB",
        "outputId": "d4f71b66-d2da-448f-9420-36a061b55ec7"
      },
      "execution_count": 3,
      "outputs": [
        {
          "output_type": "stream",
          "name": "stdout",
          "text": [
            "Digite su sueldo Base: 1400\n",
            "digite el valor de la venta #1: 80\n",
            "digite el valor de la venta #2: 200\n",
            "digite el valor de la venta #3: 350\n",
            "\n",
            "Apreciado Colaborador,\n",
            "El reporte de su nomina ha sido efectuado.\n",
            "Su salario base es de $1,400.00 \n",
            "Se reportaron un total de 3 VENTAS, por valores de: \n",
            "$80.00 \n",
            "$200.00 \n",
            "$350.00\n",
            "Sus comisiones han sido de $63.00. \n",
            "Su nómina este mes ha sido de $1,463.00 Gracias por hacer parte de nuestra compañía.\n"
          ]
        }
      ]
    },
    {
      "cell_type": "markdown",
      "source": [
        "Una tienda ofrece un descuento del 15% sobre el total de la compra y un cliente desea saber cuanto deberá pagar finalmente por su compra."
      ],
      "metadata": {
        "id": "Nbo-wACJTHIh"
      }
    },
    {
      "cell_type": "code",
      "source": [
        "Prod1 = float(input(\"Precio del producto #1: \"))\n",
        "Prod2 = float(input(\"Precio del producto #2: \"))\n",
        "Prod3 = float(input(\"Precio del producto #3: \"))\n",
        "Prod4 = float(input(\"Precio del producto #4: \"))\n",
        "Prod5 = float(input(\"Precio del producto #5: \"))\n",
        "Bruto = Prod1 + Prod2 + Prod3 + Prod4 + Prod5\n",
        "Dcto = Bruto * 0.15\n",
        "PrFinal = Bruto - Dcto\n",
        "print(f\"apreciado Cliente, su compra ha sido por un total de ${Bruto:,.2f}\")\n",
        "print(f\"¡Felicitaciones! Ha sido beneficiado por un descuento de ${Dcto:,.2f}\")\n",
        "print(f\"El valor final de su compra es de ${PrFinal:,.2f}. ¡Vuelva pronto!\")"
      ],
      "metadata": {
        "colab": {
          "base_uri": "https://localhost:8080/"
        },
        "id": "bfGYORL1TLgq",
        "outputId": "0d8d2266-8dd9-4ce5-f2ee-399fc47a89ab"
      },
      "execution_count": 4,
      "outputs": [
        {
          "output_type": "stream",
          "name": "stdout",
          "text": [
            "Precio del producto #1: 4400\n",
            "Precio del producto #2: 3900\n",
            "Precio del producto #3: 7500\n",
            "Precio del producto #4: 5700\n",
            "Precio del producto #5: 6200\n",
            "apreciado Cliente, su compra ha sido por un total de $27,700.00\n",
            "¡Felicitaciones! Ha sido beneficiado por un descuento de $4,155.00\n",
            "El valor final de su compra es de $23,545.00. ¡Vuelva pronto!\n"
          ]
        }
      ]
    },
    {
      "cell_type": "markdown",
      "source": [
        "Un maestro desea saber qué porcentaje de hombre y qué porcentaje de mujeres hay en un grupo de estudiantes."
      ],
      "metadata": {
        "id": "3JLvIesOTb7S"
      }
    },
    {
      "cell_type": "code",
      "source": [
        "CantEstu = float(input(\"¿Cuántos estudiantes hay en el aula? \"))\n",
        "CantHomb = float(input(\"¿Cuántos de sus estudiantes son hombres? \"))\n",
        "CantMuje = float(input(\"¿Cuántos de sus estudiantes son mujeres? \"))\n",
        "PorcH = ((CantHomb * 100) / CantEstu)\n",
        "PorcM = ((CantMuje * 100 ) / CantEstu)\n",
        "print(f\"Del total de sus estudiantes, los estudiantes hombres corresponden a un {PorcH}%.\")\n",
        "print(f\"Del total de sus estudiantes, las mujeres corresponde a un {PorcM}%.\")"
      ],
      "metadata": {
        "colab": {
          "base_uri": "https://localhost:8080/"
        },
        "id": "RiEFF5GCTgBG",
        "outputId": "e033f880-d30e-40ee-d285-8b28f740896f"
      },
      "execution_count": 5,
      "outputs": [
        {
          "output_type": "stream",
          "name": "stdout",
          "text": [
            "¿Cuántos estudiantes hay en el aula? 40\n",
            "¿Cuántos de sus estudiantes son hombres? 26\n",
            "¿Cuántos de sus estudiantes son mujeres? 14\n",
            "Del total de sus estudiantes, los estudiantes hombres corresponden a un 65.0%.\n",
            "Del total de sus estudiantes, las mujeres corresponde a un 35.0%.\n"
          ]
        }
      ]
    }
  ]
}