{
  "nbformat": 4,
  "nbformat_minor": 0,
  "metadata": {
    "colab": {
      "provenance": []
    },
    "kernelspec": {
      "name": "python3",
      "display_name": "Python 3"
    },
    "language_info": {
      "name": "python"
    }
  },
  "cells": [
    {
      "cell_type": "markdown",
      "source": [],
      "metadata": {
        "id": "I5vK-d_mRjN9"
      }
    },
    {
      "cell_type": "code",
      "execution_count": 1,
      "metadata": {
        "colab": {
          "base_uri": "https://localhost:8080/"
        },
        "id": "qXVLUTVqRhZO",
        "outputId": "5e54c82d-6857-4126-b476-27ccff28451b"
      },
      "outputs": [
        {
          "name": "stdout",
          "output_type": "stream",
          "text": [
            "No. de documento: 1022999069\n",
            "Nombres: Daniel Ricardo \n",
            "Apellidos: Ochoa Ramírez\n",
            "Dirección: calle 136 b sur #3a 48\n",
            "No. de celular: 3132009769\n",
            "Edad: 28\n",
            "Estado Civil: soltero\n",
            "No. de hijos: 0\n",
            "Estatura en cms: 170\n",
            "Fecha de contratación: 25/03/2023\n",
            "Sueldo básico: 1300000\n",
            "Días laborados: 4\n"
          ]
        }
      ],
      "source": [
        "IDnumber = int(input(\"No. de documento: \"))\n",
        "Name = str(input(\"Nombres: \"))\n",
        "LastName = str(input(\"Apellidos: \"))\n",
        "Adress = str(input(\"Dirección: \"))\n",
        "Phone = input(\"No. de celular: \")\n",
        "Age = int(input(\"Edad: \"))\n",
        "CivilSt = str((input(\"Estado Civil: \")))\n",
        "Children = int(input(\"No. de hijos: \"))\n",
        "HeightCM = int(input(\"Estatura en cms: \"))\n",
        "ContractDate = str(input(\"Fecha de contratación: \"))\n",
        "Salary = float(input(\"Sueldo básico: \"))\n",
        "PayDays = float(input(\"Días laborados: \"))"
      ]
    }
  ]
}