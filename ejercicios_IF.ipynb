{
  "nbformat": 4,
  "nbformat_minor": 0,
  "metadata": {
    "colab": {
      "provenance": []
    },
    "kernelspec": {
      "name": "python3",
      "display_name": "Python 3"
    },
    "language_info": {
      "name": "python"
    }
  },
  "cells": [
    {
      "cell_type": "markdown",
      "source": [
        "Dando continuidad con la primera entrega del proyecto, en esta oportunidad el estudiante debe realizar las siguientes validaciones utilizando la sentencia condicional IF. \n",
        "1. si el empleado es mayor de 55 años, disfrutará de un bono de pensión correspondiente al 2% de su sueldo básico. \n",
        "2. si el empleado es casado y tiene hijos se le otorgará un paseo cada diciembre. \n",
        "3. si el sueldo básico está entre  1.500.001 y  2.000.000 tendrá una comisión del 5% sobre el valor del sueldo; para todos los demás casos no habrá comisión. \n",
        "4. si el empleado trabajó mas de 20 días al mes y su sueldo es menor a 1.000.000 tendrá derecho a un bonno de alimentación."
      ],
      "metadata": {
        "id": "b_oqY6IaQjeC"
      }
    },
    {
      "cell_type": "code",
      "execution_count": null,
      "metadata": {
        "id": "pbT42vmYQcoO"
      },
      "outputs": [],
      "source": [
        "IDnumber = int(input(\"No. de documento: \"))\n",
        "Name = str(input(\"Nombres: \"))\n",
        "LastName = str(input(\"Apellidos: \"))\n",
        "Adress = str(input(\"Dirección: \"))\n",
        "Phone = input(\"No. de celular: \")\n",
        "Age = int(input(\"Edad: \"))\n",
        "CivilSt = str((input(\"Estado Civil: \")))\n",
        "Children = int(input(\"No. de hijos: \"))\n",
        "HeightCM = int(input(\"Estatura en cms: \"))\n",
        "ContractDate = str(input(\"Fecha de contratación: \"))\n",
        "Salary = float(input(\"Sueldo básico: \"))\n",
        "PayDays = float(input(\"Días laborados: \"))\n",
        "\n",
        "if Age > 55:\n",
        " bonomayor  = float(Salary *0.02)\n",
        " print(f\"Recuerda que en ABC company, por ser mayor de 55 años,recibes un bono del 2% de tu salario, tu bono es de {bonomayor:,.2f}\")\n",
        "else:\n",
        "  bonomayor = 0\n",
        "  print(\"El colaborador no cuenta con el beneficio por tercera edad.\")\n",
        "\n",
        "if  Children > 0 and \"casado\" in CivilSt:\n",
        " print(\"Cuentas con el beneficio de salida familiar el mes de diciembre.\")\n",
        "else:\n",
        " print(\"No aplicas con el beneficio de salida familiar.\")\n",
        "\n",
        "if Salary > 1500001 and Salary < 20000000:\n",
        "  bonosalario = float(Salary * 0.05)\n",
        "  print(f\"Cuentas con el beneficio de apoyo Starter+, tienes un beneficio del 5% de tu salario, tu bono es de ${bonosalario:,.2f}\")\n",
        "else:\n",
        "  bonosalario = 0\n",
        "  print(\"En este momento no cuentas con apoyo Starter+. Este beneficio es para colaboradores entre $1.500.001 y 2.000.000\")\n",
        "\n",
        "if PayDays > 20:\n",
        " bonoalimento = float(300000)\n",
        " print(f\"No olvides canjear tu bono de alimentación en almacenes de cadena. Tu bono es de ${bonoalimento:,.2f}.\")\n",
        "else:\n",
        "  bonoalimento = 0\n",
        "  print(\"Aún no cuentas con el bono de alimento. Este aplica para colaboradores que llevan más de 20 días en la compañía.\")\n",
        "\n",
        "Totalt = float(Salary + bonomayor + bonosalario + bonoalimento)\n",
        "print(f\"TOTAL A PAGAR: ${Totalt:,.2f}\")"
      ]
    },
    {
      "cell_type": "code",
      "source": [],
      "metadata": {
        "id": "0qyAiQpLQhZ8"
      },
      "execution_count": null,
      "outputs": []
    }
  ]
}