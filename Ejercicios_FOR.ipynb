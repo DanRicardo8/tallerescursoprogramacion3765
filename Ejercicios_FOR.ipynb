{
  "nbformat": 4,
  "nbformat_minor": 0,
  "metadata": {
    "colab": {
      "provenance": []
    },
    "kernelspec": {
      "name": "python3",
      "display_name": "Python 3"
    },
    "language_info": {
      "name": "python"
    }
  },
  "cells": [
    {
      "cell_type": "markdown",
      "source": [
        "Crear un bucle que cuente todos los números pares hasta el cien. ciclo FOR"
      ],
      "metadata": {
        "id": "O6b09J8pj9ZZ"
      }
    },
    {
      "cell_type": "code",
      "execution_count": 5,
      "metadata": {
        "colab": {
          "base_uri": "https://localhost:8080/"
        },
        "id": "G8EjSLkDj5s8",
        "outputId": "d3a3bde7-98f8-4392-eba2-f22936edaf54"
      },
      "outputs": [
        {
          "output_type": "stream",
          "name": "stdout",
          "text": [
            "0\n",
            "2\n",
            "4\n",
            "6\n",
            "8\n",
            "10\n",
            "12\n",
            "14\n",
            "16\n",
            "18\n",
            "20\n",
            "22\n",
            "24\n",
            "26\n",
            "28\n",
            "30\n",
            "32\n",
            "34\n",
            "36\n",
            "38\n",
            "40\n",
            "42\n",
            "44\n",
            "46\n",
            "48\n",
            "50\n",
            "52\n",
            "54\n",
            "56\n",
            "58\n",
            "60\n",
            "62\n",
            "64\n",
            "66\n",
            "68\n",
            "70\n",
            "72\n",
            "74\n",
            "76\n",
            "78\n",
            "80\n",
            "82\n",
            "84\n",
            "86\n",
            "88\n",
            "90\n",
            "92\n",
            "94\n",
            "96\n",
            "98\n",
            "100\n"
          ]
        }
      ],
      "source": [
        "#solución:\n",
        "for i in range(0,101,2):\n",
        "  print(i)"
      ]
    },
    {
      "cell_type": "markdown",
      "source": [
        "Haz una tabla de multiplicar utilizando el ciclo for"
      ],
      "metadata": {
        "id": "7ajlfBEumD_S"
      }
    },
    {
      "cell_type": "code",
      "source": [
        "#solución\n",
        "num = int(input(\"tabla de multiplicar del: \"))\n",
        "for a in range(11):\n",
        "  print(a, \"x\", num, \"=\", a * num)"
      ],
      "metadata": {
        "colab": {
          "base_uri": "https://localhost:8080/"
        },
        "id": "vU2ADF-KmPvJ",
        "outputId": "0ff2e682-2fb9-4b96-fb0e-bccab9e6a670"
      },
      "execution_count": 11,
      "outputs": [
        {
          "output_type": "stream",
          "name": "stdout",
          "text": [
            "tabla de multiplicar del: 6\n",
            "0 x 6 = 0\n",
            "1 x 6 = 6\n",
            "2 x 6 = 12\n",
            "3 x 6 = 18\n",
            "4 x 6 = 24\n",
            "5 x 6 = 30\n",
            "6 x 6 = 36\n",
            "7 x 6 = 42\n",
            "8 x 6 = 48\n",
            "9 x 6 = 54\n",
            "10 x 6 = 60\n"
          ]
        }
      ]
    },
    {
      "cell_type": "markdown",
      "source": [
        "escribir un programa que pregunte al usuario su edad y muestre por pantalla todos los años que ha cumplido (desde 1 hasta su edad) ciclo FOR"
      ],
      "metadata": {
        "id": "wcbqb-T2pE6r"
      }
    },
    {
      "cell_type": "code",
      "source": [
        "#solución\n",
        "edad = int(input(\"Digite su edad: \"))\n",
        "for a in range(edad):\n",
        "  print(\"se le ha celebrado el cumpleaños\", (a + 1))"
      ],
      "metadata": {
        "colab": {
          "base_uri": "https://localhost:8080/"
        },
        "id": "pf0_S2qRpcHh",
        "outputId": "428c2a21-31d1-4fc1-bbf8-2321158d5b6b"
      },
      "execution_count": 13,
      "outputs": [
        {
          "output_type": "stream",
          "name": "stdout",
          "text": [
            "Digite su edad: 15\n",
            "se le ha celebrado el cumpleaños 1\n",
            "se le ha celebrado el cumpleaños 2\n",
            "se le ha celebrado el cumpleaños 3\n",
            "se le ha celebrado el cumpleaños 4\n",
            "se le ha celebrado el cumpleaños 5\n",
            "se le ha celebrado el cumpleaños 6\n",
            "se le ha celebrado el cumpleaños 7\n",
            "se le ha celebrado el cumpleaños 8\n",
            "se le ha celebrado el cumpleaños 9\n",
            "se le ha celebrado el cumpleaños 10\n",
            "se le ha celebrado el cumpleaños 11\n",
            "se le ha celebrado el cumpleaños 12\n",
            "se le ha celebrado el cumpleaños 13\n",
            "se le ha celebrado el cumpleaños 14\n",
            "se le ha celebrado el cumpleaños 15\n"
          ]
        }
      ]
    },
    {
      "cell_type": "markdown",
      "source": [
        "Escribir un programa que pida al usuario un número entero positivo y muestre por pantalla todos los números impares desde 1 hasta ese número, separado por comas."
      ],
      "metadata": {
        "id": "_-N4bC4sqc75"
      }
    },
    {
      "cell_type": "code",
      "source": [
        "n = int(input(\"Hoy vamos a repasar los impares hasta el número: \"))\n",
        "for a in range(1,n+1,2):\n",
        "  if a == 1:\n",
        "    print(f\"El primer número impar es: {a}.\")\n",
        "  if a < 10 and a > 1:\n",
        "    print(f\"El siguiente número impar es:  {a}.\")\n",
        "  if a > 10:\n",
        "    print(f\"El siguiente número impar es: {a}.\")"
      ],
      "metadata": {
        "colab": {
          "base_uri": "https://localhost:8080/"
        },
        "id": "LBkYBhdRrGvw",
        "outputId": "9e7410f2-3b23-4a78-8ee4-4793d7f50332"
      },
      "execution_count": 30,
      "outputs": [
        {
          "output_type": "stream",
          "name": "stdout",
          "text": [
            "Hoy vamos a repasar los impares hasta el número: 54\n",
            "El primer número impar es: 1.\n",
            "El siguiente número impar es:  3.\n",
            "El siguiente número impar es:  5.\n",
            "El siguiente número impar es:  7.\n",
            "El siguiente número impar es:  9.\n",
            "El siguiente número impar es: 11.\n",
            "El siguiente número impar es: 13.\n",
            "El siguiente número impar es: 15.\n",
            "El siguiente número impar es: 17.\n",
            "El siguiente número impar es: 19.\n",
            "El siguiente número impar es: 21.\n",
            "El siguiente número impar es: 23.\n",
            "El siguiente número impar es: 25.\n",
            "El siguiente número impar es: 27.\n",
            "El siguiente número impar es: 29.\n",
            "El siguiente número impar es: 31.\n",
            "El siguiente número impar es: 33.\n",
            "El siguiente número impar es: 35.\n",
            "El siguiente número impar es: 37.\n",
            "El siguiente número impar es: 39.\n",
            "El siguiente número impar es: 41.\n",
            "El siguiente número impar es: 43.\n",
            "El siguiente número impar es: 45.\n",
            "El siguiente número impar es: 47.\n",
            "El siguiente número impar es: 49.\n",
            "El siguiente número impar es: 51.\n",
            "El siguiente número impar es: 53.\n"
          ]
        }
      ]
    },
    {
      "cell_type": "markdown",
      "source": [
        "Encuentra la suma de todos los números pares del 1 al 100 Ciclo FOR"
      ],
      "metadata": {
        "id": "t2lt5MlOrHJX"
      }
    },
    {
      "cell_type": "code",
      "source": [
        "#vartiable acumuladora\n",
        "acu = 0\n",
        "\n",
        "for a in range(0,101,2):\n",
        "  #print(a)\n",
        "  acu = acu + a\n",
        "print(f\"el total de la suma de los pares del 0 al 100 es: {acu} \")"
      ],
      "metadata": {
        "colab": {
          "base_uri": "https://localhost:8080/"
        },
        "id": "ap6D8yFmrQ3o",
        "outputId": "f76cb8a9-0b07-4a96-8d21-b8fc6c7621ba"
      },
      "execution_count": 32,
      "outputs": [
        {
          "output_type": "stream",
          "name": "stdout",
          "text": [
            "el total de la suma de los pares del 0 al 100 es: 2550 \n"
          ]
        }
      ]
    }
  ]
}